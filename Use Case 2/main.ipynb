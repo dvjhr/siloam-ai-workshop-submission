{
 "cells": [
  {
   "cell_type": "code",
   "execution_count": null,
   "id": "a7a2e1fa",
   "metadata": {},
   "outputs": [],
   "source": [
    "%pip install pydantic_settings langchain langchain-core langchain-google-genai"
   ]
  },
  {
   "cell_type": "markdown",
   "id": "38c6ff37",
   "metadata": {},
   "source": [
    "### IVF Embryo Grading"
   ]
  },
  {
   "cell_type": "code",
   "execution_count": null,
   "id": "2714d237",
   "metadata": {},
   "outputs": [],
   "source": [
    "import base64\n",
    "import json\n",
    "\n",
    "from langchain_google_genai import ChatGoogleGenerativeAI\n",
    "from langchain.prompts import ChatPromptTemplate"
   ]
  },
  {
   "cell_type": "code",
   "execution_count": null,
   "id": "901a5e8c",
   "metadata": {},
   "outputs": [],
   "source": [
    "# Process the image to base64 so it can be sent to the LLM\n",
    "\n",
    "image_path = \"./1.jpg\"\n",
    "\n",
    "with open(image_path, \"rb\") as image_file:\n",
    "    base64_image = base64.b64encode(image_file.read()).decode('utf-8')"
   ]
  },
  {
   "cell_type": "code",
   "execution_count": null,
   "id": "b12167ca",
   "metadata": {},
   "outputs": [],
   "source": [
    "# Load environment variables\n",
    "\n",
    "from pydantic_settings import BaseSettings, SettingsConfigDict\n",
    "\n",
    "class Settings(BaseSettings):\n",
    "    GOOGLE_API_KEY: str\n",
    "    model_config = SettingsConfigDict(env_file=\".env\")\n",
    "\n",
    "env = Settings()"
   ]
  },
  {
   "cell_type": "code",
   "execution_count": null,
   "id": "5ff85400",
   "metadata": {},
   "outputs": [],
   "source": [
    "# Initialize the LLM with the Google Generative AI model\n",
    "\n",
    "llm = ChatGoogleGenerativeAI(\n",
    "        model=\"gemini-2.0-flash\",\n",
    "        api_key=env.GOOGLE_API_KEY,\n",
    "    )"
   ]
  },
  {
   "cell_type": "code",
   "execution_count": null,
   "id": "16faa310",
   "metadata": {},
   "outputs": [],
   "source": [
    "system_prompt = \"\"\"\n",
    "You are an expert AI assistant for pharmacy logistics. Your task is to analyze an image of medication packaging to identify, count, and verify the items against a known database.\n",
    "\n",
    "Follow this process step-by-step:\n",
    "\n",
    "### Step 1: Image Quality Assessment\n",
    "- Analyze the overall image. Is it clear or blurry?\n",
    "- Is there significant glare or shadow obscuring the text?\n",
    "- Are the packages fully visible or partially cut off?\n",
    "- Is the image rotation or perspective correct?\n",
    "\n",
    "### Step 2: Object Detection and Counting\n",
    "- Identify how many distinct boxes/packages of the same medication are clearly visible in the image.\n",
    "- Provide a final integer count.\n",
    "\n",
    "### Step 3: Text Extraction (OCR) from the Clearest Package\n",
    "- Carefully read all the text from the most visible and clear medication package.\n",
    "- Extract the following specific pieces of information:\n",
    "  - Brand Name (e.g., Brintellix, Tylenol)\n",
    "  - Active Ingredient / Generic Name (e.g., Vortioxetine, Paracetamol)\n",
    "  - Dosage (e.g., 10 mg, 500 mg)\n",
    "  - Package Quantity (e.g., 28 tablets)\n",
    "\n",
    "### Step 4: Verification Against Database\n",
    "- Compare the extracted \"Brand Name\" and \"Active Ingredient\" against the `KNOWN MEDICATION DATABASE` provided below.\n",
    "- Your goal is to find a match. For example, if you read \"Bactesyn 1.5g\", you should match it to \"BACTESYN 1.5 GRAM INJ\".\n",
    "- If a match is found, extract its corresponding `item_code` and full `item_name`.\n",
    "- If no reasonable match is found, the fields for the database match must be null.\n",
    "\n",
    "### KNOWN MEDICATION DATABASE:\n",
    "{medication_database}\n",
    "\n",
    "### OUTPUT FORMAT:\n",
    "Provide your final assessment in a single, clean JSON object. Do not include the step-by-step analysis in the final JSON.\n",
    "\n",
    "```json\n",
    "{{\n",
    "  \"image_assessment\": {{\n",
    "    \"clarity\": \"string\",\n",
    "    \"lighting\": \"string\",\n",
    "    \"framing\": \"string\"\n",
    "  }},\n",
    "  \"detected_medication\": {{\n",
    "    \"brand_name\": \"string | null\",\n",
    "    \"active_ingredient\": \"string | null\",\n",
    "    \"dosage\": \"string | null\"\n",
    "  }},\n",
    "  \"inventory\": {{\n",
    "      \"count\": \"integer\",\n",
    "      \"package_quantity\": \"string | null\"\n",
    "  }},\n",
    "  \"database_match\": {{\n",
    "    \"item_code\": \"string | null\",\n",
    "    \"item_name\": \"string | null\"\n",
    "  }},\n",
    "  \"summary\": \"string\"\n",
    "}}\n",
    "```\n",
    "\n",
    "Now analyze the provided medicine image following this systematic chain-of-thought approach and give me the JSON output.\n",
    "\"\"\""
   ]
  },
  {
   "cell_type": "code",
   "execution_count": null,
   "id": "4d0baefb",
   "metadata": {},
   "outputs": [],
   "source": [
    "# Create the prompt for the LLM \n",
    "\n",
    "prompt = ChatPromptTemplate.from_messages([\n",
    "        (\"system\", system_prompt),\n",
    "        (\"human\", [\n",
    "            {\n",
    "                \"type\": \"text\",\n",
    "                \"text\": \"Please analyze this image according to the instructions.\"\n",
    "            },\n",
    "            {\n",
    "                \"type\": \"image_url\",\n",
    "                \"image_url\": {\n",
    "                    \"url\": f\"data:image/jpeg;base64,{base64_image}\"\n",
    "                }\n",
    "            }\n",
    "        ])\n",
    "    ])"
   ]
  },
  {
   "cell_type": "code",
   "execution_count": null,
   "id": "3f9362bc",
   "metadata": {},
   "outputs": [],
   "source": [
    "# Create the chain to invoke the LLM\n",
    "\n",
    "chain = prompt | llm\n",
    "response = chain.invoke({})\n",
    "response.content"
   ]
  },
  {
   "cell_type": "code",
   "execution_count": null,
   "id": "7fae1dfc",
   "metadata": {},
   "outputs": [],
   "source": [
    "def print_readable_result(response_text: str) -> None:\n",
    "    \"\"\"Parses the LLM's JSON response and prints a user-friendly report.\"\"\"\n",
    "    print(\"=\" * 60)\n",
    "    print(\"💊 PHARMACY INVENTORY ANALYSIS REPORT\")\n",
    "    print(\"=\" * 60)\n",
    "\n",
    "    try:\n",
    "        # Clean up the response to extract only the JSON\n",
    "        json_str = response_text.strip().lstrip(\"```json\").rstrip(\"```\").strip()\n",
    "        result = json.loads(json_str)\n",
    "\n",
    "        # Image Assessment\n",
    "        assessment = result.get('image_assessment', {})\n",
    "        print(\"\\n📷 IMAGE ASSESSMENT:\")\n",
    "        print(f\"   - Clarity: {assessment.get('clarity', 'N/A')}\")\n",
    "        print(f\"   - Lighting: {assessment.get('lighting', 'N/A')}\")\n",
    "        print(f\"   - Framing: {assessment.get('framing', 'N/A')}\")\n",
    "        print(f\"   - Rotation: {assessment.get('rotation', 'N/A')}\")\n",
    "\n",
    "        # Detected Medication\n",
    "        med = result.get('detected_medication', {})\n",
    "        print(\"\\n🔬 DETECTED MEDICATION:\")\n",
    "        print(f\"   - Brand Name: {med.get('brand_name', 'N/A')}\")\n",
    "        print(f\"   - Active Ingredient: {med.get('active_ingredient', 'N/A')}\")\n",
    "        print(f\"   - Dosage: {med.get('dosage', 'N/A')}\")\n",
    "\n",
    "        # Inventory\n",
    "        inv = result.get('inventory', {})\n",
    "        print(\"\\n📦 INVENTORY:\")\n",
    "        print(f\"   - Count in Image: {inv.get('count', 'N/A')}\")\n",
    "        print(f\"   - Quantity per Box: {inv.get('package_quantity', 'N/A')}\")\n",
    "\n",
    "        # Database Verification\n",
    "        match = result.get('database_match', {})\n",
    "        print(\"\\n🔍 DATABASE VERIFICATION:\")\n",
    "        if match and match.get('item_code'):\n",
    "            print(f\"   - Status: ✅ Match Found\")\n",
    "            print(f\"   - Item Code: {match.get('item_code')}\")\n",
    "            print(f\"   - Item Name: {match.get('item_name')}\")\n",
    "        else:\n",
    "            print(f\"   - Status: ⚠️ Not found in database.\")\n",
    "\n",
    "        # Summary\n",
    "        print(\"\\n📋 SUMMARY:\")\n",
    "        print(f\"   {result.get('summary', 'No summary provided.')}\")\n",
    "\n",
    "    except (json.JSONDecodeError, AttributeError) as e:\n",
    "        print(f\"\\n❌ Error parsing the response: {e}\")\n",
    "        print(\"\\n🤖 RAW RESPONSE:\")\n",
    "        print(\"-\" * 40)\n",
    "        print(response_text)\n",
    "    \n",
    "    print(\"\\n\" + \"=\" * 60)"
   ]
  },
  {
   "cell_type": "code",
   "execution_count": null,
   "id": "3c18a7c7",
   "metadata": {},
   "outputs": [],
   "source": [
    "print_readable_result(response.content)"
   ]
  },
  {
   "cell_type": "code",
   "execution_count": null,
   "id": "be0ab7ef",
   "metadata": {},
   "outputs": [],
   "source": []
  }
 ],
 "metadata": {
  "kernelspec": {
   "display_name": "pdf_parser",
   "language": "python",
   "name": "python3"
  },
  "language_info": {
   "codemirror_mode": {
    "name": "ipython",
    "version": 3
   },
   "file_extension": ".py",
   "mimetype": "text/x-python",
   "name": "python",
   "nbconvert_exporter": "python",
   "pygments_lexer": "ipython3",
   "version": "3.11.5"
  }
 },
 "nbformat": 4,
 "nbformat_minor": 5
}
